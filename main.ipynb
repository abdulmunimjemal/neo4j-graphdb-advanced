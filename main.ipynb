{
 "cells": [
  {
   "cell_type": "markdown",
   "metadata": {},
   "source": [
    "# CSV to GraphB Migration\n",
    "\n",
    "This notebook is a simple assigment of migrating data from a CSV file to a Graph Database using the GraphB library.\n",
    "\n",
    "Done by: Abdulmunim Jundurahman\n"
   ]
  },
  {
   "cell_type": "code",
   "execution_count": 1,
   "metadata": {},
   "outputs": [],
   "source": [
    "import pandas as pd \n",
    "\n",
    "# Let us first do EDA on the data before making decisions"
   ]
  },
  {
   "cell_type": "code",
   "execution_count": 90,
   "metadata": {},
   "outputs": [
    {
     "data": {
      "text/html": [
       "<div>\n",
       "<style scoped>\n",
       "    .dataframe tbody tr th:only-of-type {\n",
       "        vertical-align: middle;\n",
       "    }\n",
       "\n",
       "    .dataframe tbody tr th {\n",
       "        vertical-align: top;\n",
       "    }\n",
       "\n",
       "    .dataframe thead th {\n",
       "        text-align: right;\n",
       "    }\n",
       "</style>\n",
       "<table border=\"1\" class=\"dataframe\">\n",
       "  <thead>\n",
       "    <tr style=\"text-align: right;\">\n",
       "      <th></th>\n",
       "      <th>name</th>\n",
       "      <th>description</th>\n",
       "      <th>justification</th>\n",
       "      <th>year</th>\n",
       "      <th>longitude</th>\n",
       "      <th>latitude</th>\n",
       "      <th>area_hectares</th>\n",
       "      <th>category</th>\n",
       "      <th>state</th>\n",
       "      <th>region</th>\n",
       "      <th>iso</th>\n",
       "    </tr>\n",
       "  </thead>\n",
       "  <tbody>\n",
       "    <tr>\n",
       "      <th>0</th>\n",
       "      <td>Cultural Landscape and Archaeological Remains ...</td>\n",
       "      <td>&lt;p&gt;The cultural landscape and archaeological r...</td>\n",
       "      <td>&lt;p&gt;&lt;em&gt;Criterion (i):&lt;/em&gt; The Buddha statues ...</td>\n",
       "      <td>2003</td>\n",
       "      <td>67.825250</td>\n",
       "      <td>34.846940</td>\n",
       "      <td>158.9265</td>\n",
       "      <td>Cultural</td>\n",
       "      <td>Afghanistan</td>\n",
       "      <td>Asia and the Pacific</td>\n",
       "      <td>af</td>\n",
       "    </tr>\n",
       "    <tr>\n",
       "      <th>1</th>\n",
       "      <td>Minaret and Archaeological Remains of Jam</td>\n",
       "      <td>&lt;p&gt;The 65m-tall Minaret of Jam is a graceful, ...</td>\n",
       "      <td>&lt;p&gt;&lt;em&gt;Criterion (ii):&lt;/em&gt; The innovative arc...</td>\n",
       "      <td>2002</td>\n",
       "      <td>64.515889</td>\n",
       "      <td>34.396417</td>\n",
       "      <td>70.0000</td>\n",
       "      <td>Cultural</td>\n",
       "      <td>Afghanistan</td>\n",
       "      <td>Asia and the Pacific</td>\n",
       "      <td>af</td>\n",
       "    </tr>\n",
       "    <tr>\n",
       "      <th>2</th>\n",
       "      <td>Historic Centres of Berat and Gjirokastra</td>\n",
       "      <td>&lt;p&gt;Berat and Gjirokastra are inscribed as rare...</td>\n",
       "      <td>NaN</td>\n",
       "      <td>2005</td>\n",
       "      <td>20.133333</td>\n",
       "      <td>40.069444</td>\n",
       "      <td>58.9000</td>\n",
       "      <td>Cultural</td>\n",
       "      <td>Albania</td>\n",
       "      <td>Europe and North America</td>\n",
       "      <td>al</td>\n",
       "    </tr>\n",
       "    <tr>\n",
       "      <th>3</th>\n",
       "      <td>Butrint</td>\n",
       "      <td>&lt;p&gt;Inhabited since prehistoric times, Butrint ...</td>\n",
       "      <td>NaN</td>\n",
       "      <td>1992</td>\n",
       "      <td>20.026111</td>\n",
       "      <td>39.751111</td>\n",
       "      <td>NaN</td>\n",
       "      <td>Cultural</td>\n",
       "      <td>Albania</td>\n",
       "      <td>Europe and North America</td>\n",
       "      <td>al</td>\n",
       "    </tr>\n",
       "    <tr>\n",
       "      <th>4</th>\n",
       "      <td>Al Qal'a of Beni Hammad</td>\n",
       "      <td>&lt;p&gt;In a mountainous site of extraordinary beau...</td>\n",
       "      <td>NaN</td>\n",
       "      <td>1980</td>\n",
       "      <td>4.786840</td>\n",
       "      <td>35.818440</td>\n",
       "      <td>150.0000</td>\n",
       "      <td>Cultural</td>\n",
       "      <td>Algeria</td>\n",
       "      <td>Arab States</td>\n",
       "      <td>dz</td>\n",
       "    </tr>\n",
       "  </tbody>\n",
       "</table>\n",
       "</div>"
      ],
      "text/plain": [
       "                                                name  \\\n",
       "0  Cultural Landscape and Archaeological Remains ...   \n",
       "1          Minaret and Archaeological Remains of Jam   \n",
       "2         Historic Centres of Berat and Gjirokastra    \n",
       "3                                            Butrint   \n",
       "4                            Al Qal'a of Beni Hammad   \n",
       "\n",
       "                                         description  \\\n",
       "0  <p>The cultural landscape and archaeological r...   \n",
       "1  <p>The 65m-tall Minaret of Jam is a graceful, ...   \n",
       "2  <p>Berat and Gjirokastra are inscribed as rare...   \n",
       "3  <p>Inhabited since prehistoric times, Butrint ...   \n",
       "4  <p>In a mountainous site of extraordinary beau...   \n",
       "\n",
       "                                       justification  year  longitude  \\\n",
       "0  <p><em>Criterion (i):</em> The Buddha statues ...  2003  67.825250   \n",
       "1  <p><em>Criterion (ii):</em> The innovative arc...  2002  64.515889   \n",
       "2                                                NaN  2005  20.133333   \n",
       "3                                                NaN  1992  20.026111   \n",
       "4                                                NaN  1980   4.786840   \n",
       "\n",
       "    latitude  area_hectares  category        state                    region  \\\n",
       "0  34.846940       158.9265  Cultural  Afghanistan      Asia and the Pacific   \n",
       "1  34.396417        70.0000  Cultural  Afghanistan      Asia and the Pacific   \n",
       "2  40.069444        58.9000  Cultural      Albania  Europe and North America   \n",
       "3  39.751111            NaN  Cultural      Albania  Europe and North America   \n",
       "4  35.818440       150.0000  Cultural      Algeria               Arab States   \n",
       "\n",
       "  iso  \n",
       "0  af  \n",
       "1  af  \n",
       "2  al  \n",
       "3  al  \n",
       "4  dz  "
      ]
     },
     "execution_count": 90,
     "metadata": {},
     "output_type": "execute_result"
    }
   ],
   "source": [
    "file_path = \"data/whc-sites-2018-small.csv\" # found the data from https://github.com/csev/pg4e/blob/master/assn/pg4e_model/whc-sites-2018-small-orig.csv\n",
    "\n",
    "df = pd.read_csv(file_path)\n",
    "\n",
    "df.head()"
   ]
  },
  {
   "cell_type": "code",
   "execution_count": 91,
   "metadata": {},
   "outputs": [
    {
     "name": "stdout",
     "output_type": "stream",
     "text": [
      "<class 'pandas.core.frame.DataFrame'>\n",
      "RangeIndex: 1044 entries, 0 to 1043\n",
      "Data columns (total 11 columns):\n",
      " #   Column         Non-Null Count  Dtype  \n",
      "---  ------         --------------  -----  \n",
      " 0   name           1044 non-null   object \n",
      " 1   description    1044 non-null   object \n",
      " 2   justification  321 non-null    object \n",
      " 3   year           1044 non-null   int64  \n",
      " 4   longitude      1044 non-null   float64\n",
      " 5   latitude       1044 non-null   float64\n",
      " 6   area_hectares  1033 non-null   float64\n",
      " 7   category       1044 non-null   object \n",
      " 8   state          1044 non-null   object \n",
      " 9   region         1044 non-null   object \n",
      " 10  iso            1043 non-null   object \n",
      "dtypes: float64(3), int64(1), object(7)\n",
      "memory usage: 89.8+ KB\n"
     ]
    }
   ],
   "source": [
    "df.info()"
   ]
  },
  {
   "cell_type": "code",
   "execution_count": 92,
   "metadata": {},
   "outputs": [],
   "source": [
    "# Let us clean the data, escape double quotes and convert the data types\n",
    "\n",
    "df['description'] = df['description'].apply(lambda x: x.replace('\"', '\\\\\"') if isinstance(x, str) else x)\n",
    "df['justification'] = df['justification'].apply(lambda x: x.replace('\"', '\\\\\"') if isinstance(x, str) else x)\n",
    "df['year'] = df['year'].astype(int)\n",
    "df['longitude'] = df['longitude'].astype(float)\n",
    "df['latitude'] = df['latitude'].astype(float)\n",
    "df['area_hectares'] = df['area_hectares'].apply(lambda x: 0 if pd.isna(x) else float(x))"
   ]
  },
  {
   "cell_type": "code",
   "execution_count": 93,
   "metadata": {},
   "outputs": [
    {
     "name": "stdout",
     "output_type": "stream",
     "text": [
      "Unique Categories: ['Cultural' 'Mixed' 'Natural']\n",
      "Unique States: ['Afghanistan' 'Albania' 'Algeria' 'Andorra' 'Angola'\n",
      " 'Antigua and Barbuda' 'Argentina' 'Armenia' 'Australia' 'Austria'\n",
      " 'Azerbaijan' 'Bahrain' 'Bangladesh' 'Barbados' 'Belarus' 'Belgium'\n",
      " 'Belize' 'Benin' 'Bolivia (Plurinational State of)'\n",
      " 'Bosnia and Herzegovina' 'Botswana' 'Brazil' 'Bulgaria' 'Burkina Faso'\n",
      " 'Cabo Verde' 'Cambodia' 'Cameroon' 'Canada' 'Central African Republic'\n",
      " 'Chad' 'Chile' 'China' 'Colombia' 'Costa Rica' \"C te d'Ivoire\" 'Croatia'\n",
      " 'Cuba' 'Cyprus' 'Czechia' \"Democratic People's Republic of Korea\"\n",
      " 'Democratic Republic of the Congo' 'Denmark' 'Dominica'\n",
      " 'Dominican Republic' 'Ecuador' 'Egypt' 'El Salvador' 'Eritrea' 'Estonia'\n",
      " 'Ethiopia' 'Fiji' 'Finland' 'France' 'Gabon' 'Gambia (the)' 'Georgia'\n",
      " 'Germany' 'Ghana' 'Greece' 'Guatemala' 'Haiti' 'Holy See' 'Honduras'\n",
      " 'Hungary' 'Iceland' 'India' 'Indonesia' 'Iran (Islamic Republic of)'\n",
      " 'Iraq' 'Ireland' 'Israel' 'Italy' 'Jamaica' 'Japan'\n",
      " 'Jerusalem (Site proposed by Jordan)' 'Jordan' 'Kazakhstan' 'Kenya'\n",
      " 'Kiribati' 'Kyrgyzstan' \"Lao People's Democratic Republic\" 'Latvia'\n",
      " 'Lebanon' 'Libya' 'Lithuania' 'Luxembourg' 'Madagascar' 'Malawi'\n",
      " 'Malaysia' 'Mali' 'Malta' 'Marshall Islands' 'Mauritania' 'Mauritius'\n",
      " 'Mexico' 'Micronesia (Federated States of)' 'Mongolia' 'Montenegro'\n",
      " 'Morocco' 'Mozambique' 'Myanmar' 'Namibia' 'Nepal' 'Netherlands'\n",
      " 'New Zealand' 'Nicaragua' 'Niger' 'Nigeria' 'Norway' 'Oman' 'Pakistan'\n",
      " 'Palau' 'Palestine' 'Panama' 'Papua New Guinea' 'Paraguay' 'Peru'\n",
      " 'Philippines' 'Poland' 'Portugal' 'Qatar' 'Republic of Korea' 'Romania'\n",
      " 'Russian Federation' 'Saint Kitts and Nevis' 'Saint Lucia' 'San Marino'\n",
      " 'Saudi Arabia' 'Senegal' 'Serbia' 'Seychelles' 'Singapore' 'Slovakia'\n",
      " 'Slovenia' 'Solomon Islands' 'South Africa' 'Spain' 'Sri Lanka' 'Sudan'\n",
      " 'Suriname' 'Sweden' 'Switzerland' 'Syrian Arab Republic' 'Tajikistan'\n",
      " 'Thailand' 'the former Yugoslav Republic of Macedonia' 'Togo' 'Tunisia'\n",
      " 'Turkey' 'Turkmenistan' 'Uganda' 'Ukraine' 'United Arab Emirates'\n",
      " 'United Kingdom of Great Britain and Northern Ireland'\n",
      " 'United Republic of Tanzania' 'United States of America' 'Uruguay'\n",
      " 'Uzbekistan' 'Vanuatu' 'Venezuela (Bolivarian Republic of)' 'Viet Nam'\n",
      " 'Yemen' 'Zimbabwe']\n",
      "Unique Regions: ['Asia and the Pacific' 'Europe and North America' 'Arab States' 'Africa'\n",
      " 'Latin America and the Caribbean']\n"
     ]
    }
   ],
   "source": [
    "# categories\n",
    "\n",
    "unique_categories = df['category'].unique()\n",
    "print(\"Unique Categories:\", unique_categories)\n",
    "\n",
    "# states\n",
    "\n",
    "unique_states = df['state'].unique()\n",
    "print(\"Unique States:\", unique_states)\n",
    "\n",
    "# regions\n",
    "\n",
    "unique_regions = df['region'].unique()\n",
    "print(\"Unique Regions:\", unique_regions)"
   ]
  },
  {
   "cell_type": "markdown",
   "metadata": {},
   "source": [
    "## Based on the EDA We can decide\n",
    "\n",
    "1. Nodes:\n",
    "   1. `Category`, `State`, `Region`, `Site`\n",
    "2. Relationships:\n",
    "   1. `BELONGS_TO` between `Site` and `Category`\n",
    "   2. `LOCATED_IN` between `Site` and `State`\n",
    "   3. `PART_OF` between `State` and `Region`\n",
    "3. Properties:\n",
    "   1. `Site`: `name`, `description`, `justification`, `year`, `longitude`, `latitude`, `area_hectares`\n",
    "   2. `Category`: `name`\n",
    "   3. `Region`: `name`\n",
    "   4. `State`: `name`, `iso`\n"
   ]
  },
  {
   "cell_type": "code",
   "execution_count": 94,
   "metadata": {},
   "outputs": [],
   "source": [
    "# Templates for creating the Cypher commands\n",
    "\n",
    "from string import Template"
   ]
  },
  {
   "cell_type": "code",
   "execution_count": 95,
   "metadata": {},
   "outputs": [],
   "source": [
    "# Nodes\n",
    "\n",
    "site_template = Template(\n",
    "    \"\"\"\\\n",
    "MERGE (s:Site {\n",
    "    name: \"$name\",\n",
    "    description: \"$description\",\n",
    "    justification: \"$justification\",\n",
    "    year: $year,\n",
    "    longitude: $longitude,\n",
    "    latitude: $latitude,\n",
    "    area_hectares: $area_hectares\n",
    "});\n",
    "    \"\"\"\n",
    ")\n",
    "\n",
    "category_template = Template(\n",
    "    \"\"\"\\\n",
    "MERGE (c:Category {name: \"$name\"});\n",
    "    \"\"\"\n",
    ")\n",
    "\n",
    "region_template = Template(\n",
    "    \"\"\"\\\n",
    "MERGE (r:Region {name: \"$name\"});\n",
    "    \"\"\"\n",
    ")\n",
    "\n",
    "state_template = Template(\n",
    "    \"\"\"\\\n",
    "MERGE (s:State {name: \"$name\", iso: \"$iso\"});\n",
    "    \"\"\"\n",
    ")"
   ]
  },
  {
   "cell_type": "code",
   "execution_count": 96,
   "metadata": {},
   "outputs": [],
   "source": [
    "CYPHER_COMMANDS = []"
   ]
  },
  {
   "cell_type": "code",
   "execution_count": 97,
   "metadata": {},
   "outputs": [],
   "source": [
    "unique_regions = df['region'].drop_duplicates().to_frame(name='name')\n",
    "states = df[['state', 'iso']].drop_duplicates().rename(columns={'state': 'name'})\n",
    "categories = df['category'].drop_duplicates().to_frame(name='name')\n",
    "sites = df[['name', 'description', 'justification', 'year', 'longitude', 'latitude', 'area_hectares']]\n",
    "\n",
    "\n",
    "def create_node_cypher(template, df, label):\n",
    "    for i, row in df.iterrows():\n",
    "        cypher_command = template.substitute(row)\n",
    "        CYPHER_COMMANDS.append(cypher_command)"
   ]
  },
  {
   "cell_type": "code",
   "execution_count": 98,
   "metadata": {},
   "outputs": [],
   "source": [
    "# Generate Cypher commands for each type of node\n",
    "create_node_cypher(category_template, categories, 'Category')\n",
    "create_node_cypher(region_template, unique_regions, 'Region')\n",
    "create_node_cypher(state_template, states, 'State')\n",
    "create_node_cypher(site_template, sites, 'Site')"
   ]
  },
  {
   "cell_type": "code",
   "execution_count": 99,
   "metadata": {},
   "outputs": [],
   "source": [
    "# Relationships \n",
    "\n",
    "# templates\n",
    "belongs_to_template = Template(\n",
    "    \"\"\"\\\n",
    "MATCH (s:Site {name: \"$site_name\"})\n",
    "MATCH (c:Category {name: \"$category_name\"})\n",
    "MERGE (s)-[:BELONGS_TO]->(c);\n",
    "    \"\"\"\n",
    ")\n",
    "\n",
    "located_in_template = Template(\n",
    "    \"\"\"\\\n",
    "MATCH (s:Site {name: \"$site_name\"})\n",
    "MATCH (st:State {name: \"$state_name\"})\n",
    "MERGE (s)-[:LOCATED_IN]->(st);\n",
    "    \"\"\"\n",
    ")\n",
    "\n",
    "part_of_template = Template(\n",
    "    \"\"\"\\\n",
    "MATCH (st:State {name: \"$state_name\"})\n",
    "MATCH (r:Region {name: \"$region_name\"})\n",
    "MERGE (st)-[:PART_OF]->(r);\n",
    "    \"\"\"\n",
    ")"
   ]
  },
  {
   "cell_type": "code",
   "execution_count": 100,
   "metadata": {},
   "outputs": [],
   "source": [
    "# Create BELONGS_TO relationships\n",
    "for i, row in df.iterrows():\n",
    "    command = belongs_to_template.substitute(site_name=row['name'], category_name=row['category'])\n",
    "    CYPHER_COMMANDS.append(command)"
   ]
  },
  {
   "cell_type": "code",
   "execution_count": 101,
   "metadata": {},
   "outputs": [],
   "source": [
    "# Create LOCATED_IN relationships\n",
    "for i, row in df.iterrows():\n",
    "    command = located_in_template.substitute(site_name=row['name'], state_name=row['state'])\n",
    "    CYPHER_COMMANDS.append(command)"
   ]
  },
  {
   "cell_type": "code",
   "execution_count": 102,
   "metadata": {},
   "outputs": [],
   "source": [
    "# Create PART_OF relationships\n",
    "unique_state_region = df[['state', 'region']].drop_duplicates()\n",
    "for i, row in unique_state_region.iterrows():\n",
    "    command = part_of_template.substitute(state_name=row['state'], region_name=row['region'])\n",
    "    CYPHER_COMMANDS.append(command)"
   ]
  },
  {
   "cell_type": "code",
   "execution_count": 103,
   "metadata": {},
   "outputs": [
    {
     "name": "stdout",
     "output_type": "stream",
     "text": [
      "DONE\n"
     ]
    }
   ],
   "source": [
    "# Save the Cypher commands to a file\n",
    "\n",
    "output_path = \"data/whc-sites-2018-small.cypher\"\n",
    "with open(output_path, 'w') as f:\n",
    "    for command in CYPHER_COMMANDS:\n",
    "        f.write(command)\n",
    "\n",
    "print(\"DONE\")"
   ]
  },
  {
   "cell_type": "code",
   "execution_count": 84,
   "metadata": {},
   "outputs": [
    {
     "name": "stdout",
     "output_type": "stream",
     "text": [
      "Requirement already satisfied: neo4j in c:\\users\\abdulmunim\\appdata\\local\\programs\\python\\python311\\lib\\site-packages (5.20.0)"
     ]
    },
    {
     "name": "stderr",
     "output_type": "stream",
     "text": [
      "\n",
      "[notice] A new release of pip is available: 24.1.2 -> 24.2\n",
      "[notice] To update, run: python.exe -m pip install --upgrade pip\n"
     ]
    },
    {
     "name": "stdout",
     "output_type": "stream",
     "text": [
      "\n",
      "Requirement already satisfied: python-dotenv in c:\\users\\abdulmunim\\appdata\\local\\programs\\python\\python311\\lib\\site-packages (1.0.1)\n",
      "Requirement already satisfied: pytz in c:\\users\\abdulmunim\\appdata\\local\\programs\\python\\python311\\lib\\site-packages (from neo4j) (2023.3.post1)\n"
     ]
    }
   ],
   "source": [
    "! pip install neo4j python-dotenv "
   ]
  },
  {
   "cell_type": "code",
   "execution_count": 104,
   "metadata": {},
   "outputs": [],
   "source": [
    "# let us exxcute the cypher commands in the neo4j database\n",
    "\n",
    "from neo4j import GraphDatabase\n",
    "import os\n",
    "\n",
    "def run_cypher_commands(driver, file_path):\n",
    "    with open(file_path, 'r') as f:\n",
    "        commands = f.read()\n",
    "        commands = [command.strip() for command in commands.split(';') if command.strip()]\n",
    "    with driver.session() as session:\n",
    "        for command in commands:\n",
    "            try:\n",
    "                session.run(command)\n",
    "            except Exception as e:\n",
    "                print(f\"Error running command: {command}\")\n",
    "                print(e)\n",
    "                input(\"Please Enter to continue to next command\")\n",
    "\n",
    "# clean any existing data in the database\n",
    "def clean_db(driver):\n",
    "    with driver.session() as session:\n",
    "        session.run(\"MATCH (n) DETACH DELETE n\")"
   ]
  },
  {
   "cell_type": "code",
   "execution_count": 105,
   "metadata": {},
   "outputs": [],
   "source": [
    "from dotenv import load_dotenv\n",
    "load_dotenv()\n",
    "\n",
    "# Create Connection\n",
    "\n",
    "uri = os.getenv(\"NEO4J_URI\")\n",
    "user = os.getenv(\"NEO4J_USER\")\n",
    "password = os.getenv(\"NEO4J_PASSWORD\")\n",
    "\n",
    "driver = GraphDatabase.driver(uri, auth=(user, password))"
   ]
  },
  {
   "cell_type": "code",
   "execution_count": 106,
   "metadata": {},
   "outputs": [],
   "source": [
    "cypher_file_path = \"data/whc-sites-2018-small.cypher\"\n",
    "clean_db(driver)"
   ]
  },
  {
   "cell_type": "code",
   "execution_count": 107,
   "metadata": {},
   "outputs": [
    {
     "ename": "CypherSyntaxError",
     "evalue": "{code: Neo.ClientError.Statement.SyntaxError} {message: Failed to parse string literal. The query must contain an even number of non-escaped quotes. (line 3, column 18 (offset: 89))\n\"    description: \"<p>Berat and Gjirokastra are inscribed as rare examples of an architectural character typical of the Ottoman period. Located in central Albania, Berat bears witness to the coexistence of various religious and cultural communities down the centuries. It features a castle, locally known as the Kala, most of which was built in the 13th century, although its origins date back to the 4th century BC. The citadel area numbers many Byzantine churches, mainly from the 13th century, as well as several mosques built under the Ottoman era which&nbsp\"\n                  ^}",
     "output_type": "error",
     "traceback": [
      "\u001b[1;31m---------------------------------------------------------------------------\u001b[0m",
      "\u001b[1;31mCypherSyntaxError\u001b[0m                         Traceback (most recent call last)",
      "Cell \u001b[1;32mIn[107], line 5\u001b[0m\n\u001b[0;32m      3\u001b[0m \u001b[38;5;28;01mimport\u001b[39;00m \u001b[38;5;21;01mtime\u001b[39;00m\n\u001b[0;32m      4\u001b[0m starting_time \u001b[38;5;241m=\u001b[39m time\u001b[38;5;241m.\u001b[39mtime()\n\u001b[1;32m----> 5\u001b[0m \u001b[43mrun_cypher_commands\u001b[49m\u001b[43m(\u001b[49m\u001b[43mdriver\u001b[49m\u001b[43m,\u001b[49m\u001b[43m \u001b[49m\u001b[43mcypher_file_path\u001b[49m\u001b[43m)\u001b[49m\n\u001b[0;32m      6\u001b[0m ending_time \u001b[38;5;241m=\u001b[39m time\u001b[38;5;241m.\u001b[39mtime()\n\u001b[0;32m      8\u001b[0m \u001b[38;5;28mprint\u001b[39m(\u001b[38;5;124m\"\u001b[39m\u001b[38;5;124mTime taken to run the Cypher commands:\u001b[39m\u001b[38;5;124m\"\u001b[39m, ending_time \u001b[38;5;241m-\u001b[39m starting_time)\n",
      "Cell \u001b[1;32mIn[104], line 12\u001b[0m, in \u001b[0;36mrun_cypher_commands\u001b[1;34m(driver, file_path)\u001b[0m\n\u001b[0;32m     10\u001b[0m \u001b[38;5;28;01mwith\u001b[39;00m driver\u001b[38;5;241m.\u001b[39msession() \u001b[38;5;28;01mas\u001b[39;00m session:\n\u001b[0;32m     11\u001b[0m     \u001b[38;5;28;01mfor\u001b[39;00m command \u001b[38;5;129;01min\u001b[39;00m commands:\n\u001b[1;32m---> 12\u001b[0m         \u001b[43msession\u001b[49m\u001b[38;5;241;43m.\u001b[39;49m\u001b[43mrun\u001b[49m\u001b[43m(\u001b[49m\u001b[43mcommand\u001b[49m\u001b[43m)\u001b[49m\n",
      "File \u001b[1;32mc:\\Users\\Abdulmunim\\AppData\\Local\\Programs\\Python\\Python311\\Lib\\site-packages\\neo4j\\_sync\\work\\session.py:313\u001b[0m, in \u001b[0;36mSession.run\u001b[1;34m(self, query, parameters, **kwargs)\u001b[0m\n\u001b[0;32m    311\u001b[0m bookmarks \u001b[38;5;241m=\u001b[39m \u001b[38;5;28mself\u001b[39m\u001b[38;5;241m.\u001b[39m_get_bookmarks()\n\u001b[0;32m    312\u001b[0m parameters \u001b[38;5;241m=\u001b[39m \u001b[38;5;28mdict\u001b[39m(parameters \u001b[38;5;129;01mor\u001b[39;00m {}, \u001b[38;5;241m*\u001b[39m\u001b[38;5;241m*\u001b[39mkwargs)\n\u001b[1;32m--> 313\u001b[0m \u001b[38;5;28;43mself\u001b[39;49m\u001b[38;5;241;43m.\u001b[39;49m\u001b[43m_auto_result\u001b[49m\u001b[38;5;241;43m.\u001b[39;49m\u001b[43m_run\u001b[49m\u001b[43m(\u001b[49m\n\u001b[0;32m    314\u001b[0m \u001b[43m    \u001b[49m\u001b[43mquery\u001b[49m\u001b[43m,\u001b[49m\u001b[43m \u001b[49m\u001b[43mparameters\u001b[49m\u001b[43m,\u001b[49m\u001b[43m \u001b[49m\u001b[38;5;28;43mself\u001b[39;49m\u001b[38;5;241;43m.\u001b[39;49m\u001b[43m_config\u001b[49m\u001b[38;5;241;43m.\u001b[39;49m\u001b[43mdatabase\u001b[49m\u001b[43m,\u001b[49m\n\u001b[0;32m    315\u001b[0m \u001b[43m    \u001b[49m\u001b[38;5;28;43mself\u001b[39;49m\u001b[38;5;241;43m.\u001b[39;49m\u001b[43m_config\u001b[49m\u001b[38;5;241;43m.\u001b[39;49m\u001b[43mimpersonated_user\u001b[49m\u001b[43m,\u001b[49m\u001b[43m \u001b[49m\u001b[38;5;28;43mself\u001b[39;49m\u001b[38;5;241;43m.\u001b[39;49m\u001b[43m_config\u001b[49m\u001b[38;5;241;43m.\u001b[39;49m\u001b[43mdefault_access_mode\u001b[49m\u001b[43m,\u001b[49m\n\u001b[0;32m    316\u001b[0m \u001b[43m    \u001b[49m\u001b[43mbookmarks\u001b[49m\u001b[43m,\u001b[49m\u001b[43m \u001b[49m\u001b[38;5;28;43mself\u001b[39;49m\u001b[38;5;241;43m.\u001b[39;49m\u001b[43m_config\u001b[49m\u001b[38;5;241;43m.\u001b[39;49m\u001b[43mnotifications_min_severity\u001b[49m\u001b[43m,\u001b[49m\n\u001b[0;32m    317\u001b[0m \u001b[43m    \u001b[49m\u001b[38;5;28;43mself\u001b[39;49m\u001b[38;5;241;43m.\u001b[39;49m\u001b[43m_config\u001b[49m\u001b[38;5;241;43m.\u001b[39;49m\u001b[43mnotifications_disabled_categories\u001b[49m\u001b[43m,\u001b[49m\n\u001b[0;32m    318\u001b[0m \u001b[43m\u001b[49m\u001b[43m)\u001b[49m\n\u001b[0;32m    320\u001b[0m \u001b[38;5;28;01mreturn\u001b[39;00m \u001b[38;5;28mself\u001b[39m\u001b[38;5;241m.\u001b[39m_auto_result\n",
      "File \u001b[1;32mc:\\Users\\Abdulmunim\\AppData\\Local\\Programs\\Python\\Python311\\Lib\\site-packages\\neo4j\\_sync\\work\\result.py:181\u001b[0m, in \u001b[0;36mResult._run\u001b[1;34m(self, query, parameters, db, imp_user, access_mode, bookmarks, notifications_min_severity, notifications_disabled_categories)\u001b[0m\n\u001b[0;32m    179\u001b[0m \u001b[38;5;28mself\u001b[39m\u001b[38;5;241m.\u001b[39m_pull()\n\u001b[0;32m    180\u001b[0m \u001b[38;5;28mself\u001b[39m\u001b[38;5;241m.\u001b[39m_connection\u001b[38;5;241m.\u001b[39msend_all()\n\u001b[1;32m--> 181\u001b[0m \u001b[38;5;28;43mself\u001b[39;49m\u001b[38;5;241;43m.\u001b[39;49m\u001b[43m_attach\u001b[49m\u001b[43m(\u001b[49m\u001b[43m)\u001b[49m\n",
      "File \u001b[1;32mc:\\Users\\Abdulmunim\\AppData\\Local\\Programs\\Python\\Python311\\Lib\\site-packages\\neo4j\\_sync\\work\\result.py:301\u001b[0m, in \u001b[0;36mResult._attach\u001b[1;34m(self)\u001b[0m\n\u001b[0;32m    299\u001b[0m \u001b[38;5;28;01mif\u001b[39;00m \u001b[38;5;28mself\u001b[39m\u001b[38;5;241m.\u001b[39m_exhausted \u001b[38;5;129;01mis\u001b[39;00m \u001b[38;5;28;01mFalse\u001b[39;00m:\n\u001b[0;32m    300\u001b[0m     \u001b[38;5;28;01mwhile\u001b[39;00m \u001b[38;5;28mself\u001b[39m\u001b[38;5;241m.\u001b[39m_attached \u001b[38;5;129;01mis\u001b[39;00m \u001b[38;5;28;01mFalse\u001b[39;00m:\n\u001b[1;32m--> 301\u001b[0m         \u001b[38;5;28;43mself\u001b[39;49m\u001b[38;5;241;43m.\u001b[39;49m\u001b[43m_connection\u001b[49m\u001b[38;5;241;43m.\u001b[39;49m\u001b[43mfetch_message\u001b[49m\u001b[43m(\u001b[49m\u001b[43m)\u001b[49m\n",
      "File \u001b[1;32mc:\\Users\\Abdulmunim\\AppData\\Local\\Programs\\Python\\Python311\\Lib\\site-packages\\neo4j\\_sync\\io\\_common.py:178\u001b[0m, in \u001b[0;36mConnectionErrorHandler.__getattr__.<locals>.outer.<locals>.inner\u001b[1;34m(*args, **kwargs)\u001b[0m\n\u001b[0;32m    176\u001b[0m \u001b[38;5;28;01mdef\u001b[39;00m \u001b[38;5;21minner\u001b[39m(\u001b[38;5;241m*\u001b[39margs, \u001b[38;5;241m*\u001b[39m\u001b[38;5;241m*\u001b[39mkwargs):\n\u001b[0;32m    177\u001b[0m     \u001b[38;5;28;01mtry\u001b[39;00m:\n\u001b[1;32m--> 178\u001b[0m         \u001b[43mfunc\u001b[49m\u001b[43m(\u001b[49m\u001b[38;5;241;43m*\u001b[39;49m\u001b[43margs\u001b[49m\u001b[43m,\u001b[49m\u001b[43m \u001b[49m\u001b[38;5;241;43m*\u001b[39;49m\u001b[38;5;241;43m*\u001b[39;49m\u001b[43mkwargs\u001b[49m\u001b[43m)\u001b[49m\n\u001b[0;32m    179\u001b[0m     \u001b[38;5;28;01mexcept\u001b[39;00m (Neo4jError, ServiceUnavailable, SessionExpired) \u001b[38;5;28;01mas\u001b[39;00m exc:\n\u001b[0;32m    180\u001b[0m         \u001b[38;5;28;01massert\u001b[39;00m \u001b[38;5;129;01mnot\u001b[39;00m asyncio\u001b[38;5;241m.\u001b[39miscoroutinefunction(\u001b[38;5;28mself\u001b[39m\u001b[38;5;241m.\u001b[39m__on_error)\n",
      "File \u001b[1;32mc:\\Users\\Abdulmunim\\AppData\\Local\\Programs\\Python\\Python311\\Lib\\site-packages\\neo4j\\_sync\\io\\_bolt.py:850\u001b[0m, in \u001b[0;36mBolt.fetch_message\u001b[1;34m(self)\u001b[0m\n\u001b[0;32m    846\u001b[0m \u001b[38;5;66;03m# Receive exactly one message\u001b[39;00m\n\u001b[0;32m    847\u001b[0m tag, fields \u001b[38;5;241m=\u001b[39m \u001b[38;5;28mself\u001b[39m\u001b[38;5;241m.\u001b[39minbox\u001b[38;5;241m.\u001b[39mpop(\n\u001b[0;32m    848\u001b[0m     hydration_hooks\u001b[38;5;241m=\u001b[39m\u001b[38;5;28mself\u001b[39m\u001b[38;5;241m.\u001b[39mresponses[\u001b[38;5;241m0\u001b[39m]\u001b[38;5;241m.\u001b[39mhydration_hooks\n\u001b[0;32m    849\u001b[0m )\n\u001b[1;32m--> 850\u001b[0m res \u001b[38;5;241m=\u001b[39m \u001b[38;5;28;43mself\u001b[39;49m\u001b[38;5;241;43m.\u001b[39;49m\u001b[43m_process_message\u001b[49m\u001b[43m(\u001b[49m\u001b[43mtag\u001b[49m\u001b[43m,\u001b[49m\u001b[43m \u001b[49m\u001b[43mfields\u001b[49m\u001b[43m)\u001b[49m\n\u001b[0;32m    851\u001b[0m \u001b[38;5;28mself\u001b[39m\u001b[38;5;241m.\u001b[39midle_since \u001b[38;5;241m=\u001b[39m monotonic()\n\u001b[0;32m    852\u001b[0m \u001b[38;5;28;01mreturn\u001b[39;00m res\n",
      "File \u001b[1;32mc:\\Users\\Abdulmunim\\AppData\\Local\\Programs\\Python\\Python311\\Lib\\site-packages\\neo4j\\_sync\\io\\_bolt5.py:369\u001b[0m, in \u001b[0;36mBolt5x0._process_message\u001b[1;34m(self, tag, fields)\u001b[0m\n\u001b[0;32m    367\u001b[0m \u001b[38;5;28mself\u001b[39m\u001b[38;5;241m.\u001b[39m_server_state_manager\u001b[38;5;241m.\u001b[39mstate \u001b[38;5;241m=\u001b[39m \u001b[38;5;28mself\u001b[39m\u001b[38;5;241m.\u001b[39mbolt_states\u001b[38;5;241m.\u001b[39mFAILED\n\u001b[0;32m    368\u001b[0m \u001b[38;5;28;01mtry\u001b[39;00m:\n\u001b[1;32m--> 369\u001b[0m     \u001b[43mresponse\u001b[49m\u001b[38;5;241;43m.\u001b[39;49m\u001b[43mon_failure\u001b[49m\u001b[43m(\u001b[49m\u001b[43msummary_metadata\u001b[49m\u001b[43m \u001b[49m\u001b[38;5;129;43;01mor\u001b[39;49;00m\u001b[43m \u001b[49m\u001b[43m{\u001b[49m\u001b[43m}\u001b[49m\u001b[43m)\u001b[49m\n\u001b[0;32m    370\u001b[0m \u001b[38;5;28;01mexcept\u001b[39;00m (ServiceUnavailable, DatabaseUnavailable):\n\u001b[0;32m    371\u001b[0m     \u001b[38;5;28;01mif\u001b[39;00m \u001b[38;5;28mself\u001b[39m\u001b[38;5;241m.\u001b[39mpool:\n",
      "File \u001b[1;32mc:\\Users\\Abdulmunim\\AppData\\Local\\Programs\\Python\\Python311\\Lib\\site-packages\\neo4j\\_sync\\io\\_common.py:245\u001b[0m, in \u001b[0;36mResponse.on_failure\u001b[1;34m(self, metadata)\u001b[0m\n\u001b[0;32m    243\u001b[0m handler \u001b[38;5;241m=\u001b[39m \u001b[38;5;28mself\u001b[39m\u001b[38;5;241m.\u001b[39mhandlers\u001b[38;5;241m.\u001b[39mget(\u001b[38;5;124m\"\u001b[39m\u001b[38;5;124mon_summary\u001b[39m\u001b[38;5;124m\"\u001b[39m)\n\u001b[0;32m    244\u001b[0m Util\u001b[38;5;241m.\u001b[39mcallback(handler)\n\u001b[1;32m--> 245\u001b[0m \u001b[38;5;28;01mraise\u001b[39;00m Neo4jError\u001b[38;5;241m.\u001b[39mhydrate(\u001b[38;5;241m*\u001b[39m\u001b[38;5;241m*\u001b[39mmetadata)\n",
      "\u001b[1;31mCypherSyntaxError\u001b[0m: {code: Neo.ClientError.Statement.SyntaxError} {message: Failed to parse string literal. The query must contain an even number of non-escaped quotes. (line 3, column 18 (offset: 89))\n\"    description: \"<p>Berat and Gjirokastra are inscribed as rare examples of an architectural character typical of the Ottoman period. Located in central Albania, Berat bears witness to the coexistence of various religious and cultural communities down the centuries. It features a castle, locally known as the Kala, most of which was built in the 13th century, although its origins date back to the 4th century BC. The citadel area numbers many Byzantine churches, mainly from the 13th century, as well as several mosques built under the Ottoman era which&nbsp\"\n                  ^}"
     ]
    }
   ],
   "source": [
    "# Run the Cypher commands (let's keep some log too)\n",
    "\n",
    "import time\n",
    "starting_time = time.time()\n",
    "run_cypher_commands(driver, cypher_file_path)\n",
    "ending_time = time.time()\n",
    "\n",
    "print(\"Time taken to run the Cypher commands:\", ending_time - starting_time)"
   ]
  },
  {
   "cell_type": "code",
   "execution_count": null,
   "metadata": {},
   "outputs": [],
   "source": []
  }
 ],
 "metadata": {
  "kernelspec": {
   "display_name": "Python 3",
   "language": "python",
   "name": "python3"
  },
  "language_info": {
   "codemirror_mode": {
    "name": "ipython",
    "version": 3
   },
   "file_extension": ".py",
   "mimetype": "text/x-python",
   "name": "python",
   "nbconvert_exporter": "python",
   "pygments_lexer": "ipython3",
   "version": "3.11.5"
  }
 },
 "nbformat": 4,
 "nbformat_minor": 2
}
