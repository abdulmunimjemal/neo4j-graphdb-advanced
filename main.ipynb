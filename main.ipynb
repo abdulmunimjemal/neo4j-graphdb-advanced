{
 "cells": [
  {
   "cell_type": "markdown",
   "metadata": {},
   "source": [
    "# CSV to GraphB Migration\n",
    "\n",
    "This notebook is a simple assigment of migrating data from a CSV file to a Graph Database using the GraphB library.\n",
    "\n",
    "Done by: Abdulmunim Jundurahman\n"
   ]
  },
  {
   "cell_type": "code",
   "execution_count": 1,
   "metadata": {},
   "outputs": [],
   "source": [
    "import pandas as pd \n",
    "\n",
    "# Let us first do EDA on the data before making decisions"
   ]
  },
  {
   "cell_type": "code",
   "execution_count": 2,
   "metadata": {},
   "outputs": [
    {
     "data": {
      "text/html": [
       "<div>\n",
       "<style scoped>\n",
       "    .dataframe tbody tr th:only-of-type {\n",
       "        vertical-align: middle;\n",
       "    }\n",
       "\n",
       "    .dataframe tbody tr th {\n",
       "        vertical-align: top;\n",
       "    }\n",
       "\n",
       "    .dataframe thead th {\n",
       "        text-align: right;\n",
       "    }\n",
       "</style>\n",
       "<table border=\"1\" class=\"dataframe\">\n",
       "  <thead>\n",
       "    <tr style=\"text-align: right;\">\n",
       "      <th></th>\n",
       "      <th>name</th>\n",
       "      <th>description</th>\n",
       "      <th>justification</th>\n",
       "      <th>year</th>\n",
       "      <th>longitude</th>\n",
       "      <th>latitude</th>\n",
       "      <th>area_hectares</th>\n",
       "      <th>category</th>\n",
       "      <th>state</th>\n",
       "      <th>region</th>\n",
       "      <th>iso</th>\n",
       "    </tr>\n",
       "  </thead>\n",
       "  <tbody>\n",
       "    <tr>\n",
       "      <th>0</th>\n",
       "      <td>Cultural Landscape and Archaeological Remains ...</td>\n",
       "      <td>&lt;p&gt;The cultural landscape and archaeological r...</td>\n",
       "      <td>&lt;p&gt;&lt;em&gt;Criterion (i):&lt;/em&gt; The Buddha statues ...</td>\n",
       "      <td>2003</td>\n",
       "      <td>67.825250</td>\n",
       "      <td>34.846940</td>\n",
       "      <td>158.9265</td>\n",
       "      <td>Cultural</td>\n",
       "      <td>Afghanistan</td>\n",
       "      <td>Asia and the Pacific</td>\n",
       "      <td>af</td>\n",
       "    </tr>\n",
       "    <tr>\n",
       "      <th>1</th>\n",
       "      <td>Minaret and Archaeological Remains of Jam</td>\n",
       "      <td>&lt;p&gt;The 65m-tall Minaret of Jam is a graceful, ...</td>\n",
       "      <td>&lt;p&gt;&lt;em&gt;Criterion (ii):&lt;/em&gt; The innovative arc...</td>\n",
       "      <td>2002</td>\n",
       "      <td>64.515889</td>\n",
       "      <td>34.396417</td>\n",
       "      <td>70.0000</td>\n",
       "      <td>Cultural</td>\n",
       "      <td>Afghanistan</td>\n",
       "      <td>Asia and the Pacific</td>\n",
       "      <td>af</td>\n",
       "    </tr>\n",
       "    <tr>\n",
       "      <th>2</th>\n",
       "      <td>Historic Centres of Berat and Gjirokastra</td>\n",
       "      <td>&lt;p&gt;Berat and Gjirokastra are inscribed as rare...</td>\n",
       "      <td>NaN</td>\n",
       "      <td>2005</td>\n",
       "      <td>20.133333</td>\n",
       "      <td>40.069444</td>\n",
       "      <td>58.9000</td>\n",
       "      <td>Cultural</td>\n",
       "      <td>Albania</td>\n",
       "      <td>Europe and North America</td>\n",
       "      <td>al</td>\n",
       "    </tr>\n",
       "    <tr>\n",
       "      <th>3</th>\n",
       "      <td>Butrint</td>\n",
       "      <td>&lt;p&gt;Inhabited since prehistoric times, Butrint ...</td>\n",
       "      <td>NaN</td>\n",
       "      <td>1992</td>\n",
       "      <td>20.026111</td>\n",
       "      <td>39.751111</td>\n",
       "      <td>NaN</td>\n",
       "      <td>Cultural</td>\n",
       "      <td>Albania</td>\n",
       "      <td>Europe and North America</td>\n",
       "      <td>al</td>\n",
       "    </tr>\n",
       "    <tr>\n",
       "      <th>4</th>\n",
       "      <td>Al Qal'a of Beni Hammad</td>\n",
       "      <td>&lt;p&gt;In a mountainous site of extraordinary beau...</td>\n",
       "      <td>NaN</td>\n",
       "      <td>1980</td>\n",
       "      <td>4.786840</td>\n",
       "      <td>35.818440</td>\n",
       "      <td>150.0000</td>\n",
       "      <td>Cultural</td>\n",
       "      <td>Algeria</td>\n",
       "      <td>Arab States</td>\n",
       "      <td>dz</td>\n",
       "    </tr>\n",
       "  </tbody>\n",
       "</table>\n",
       "</div>"
      ],
      "text/plain": [
       "                                                name  \\\n",
       "0  Cultural Landscape and Archaeological Remains ...   \n",
       "1          Minaret and Archaeological Remains of Jam   \n",
       "2         Historic Centres of Berat and Gjirokastra    \n",
       "3                                            Butrint   \n",
       "4                            Al Qal'a of Beni Hammad   \n",
       "\n",
       "                                         description  \\\n",
       "0  <p>The cultural landscape and archaeological r...   \n",
       "1  <p>The 65m-tall Minaret of Jam is a graceful, ...   \n",
       "2  <p>Berat and Gjirokastra are inscribed as rare...   \n",
       "3  <p>Inhabited since prehistoric times, Butrint ...   \n",
       "4  <p>In a mountainous site of extraordinary beau...   \n",
       "\n",
       "                                       justification  year  longitude  \\\n",
       "0  <p><em>Criterion (i):</em> The Buddha statues ...  2003  67.825250   \n",
       "1  <p><em>Criterion (ii):</em> The innovative arc...  2002  64.515889   \n",
       "2                                                NaN  2005  20.133333   \n",
       "3                                                NaN  1992  20.026111   \n",
       "4                                                NaN  1980   4.786840   \n",
       "\n",
       "    latitude  area_hectares  category        state                    region  \\\n",
       "0  34.846940       158.9265  Cultural  Afghanistan      Asia and the Pacific   \n",
       "1  34.396417        70.0000  Cultural  Afghanistan      Asia and the Pacific   \n",
       "2  40.069444        58.9000  Cultural      Albania  Europe and North America   \n",
       "3  39.751111            NaN  Cultural      Albania  Europe and North America   \n",
       "4  35.818440       150.0000  Cultural      Algeria               Arab States   \n",
       "\n",
       "  iso  \n",
       "0  af  \n",
       "1  af  \n",
       "2  al  \n",
       "3  al  \n",
       "4  dz  "
      ]
     },
     "execution_count": 2,
     "metadata": {},
     "output_type": "execute_result"
    }
   ],
   "source": [
    "file_path = \"data/whc-sites-2018-small.csv\" # found the data from https://github.com/csev/pg4e/blob/master/assn/pg4e_model/whc-sites-2018-small-orig.csv\n",
    "\n",
    "df = pd.read_csv(file_path)\n",
    "\n",
    "df.head()"
   ]
  },
  {
   "cell_type": "code",
   "execution_count": 3,
   "metadata": {},
   "outputs": [
    {
     "name": "stdout",
     "output_type": "stream",
     "text": [
      "<class 'pandas.core.frame.DataFrame'>\n",
      "RangeIndex: 1044 entries, 0 to 1043\n",
      "Data columns (total 11 columns):\n",
      " #   Column         Non-Null Count  Dtype  \n",
      "---  ------         --------------  -----  \n",
      " 0   name           1044 non-null   object \n",
      " 1   description    1044 non-null   object \n",
      " 2   justification  321 non-null    object \n",
      " 3   year           1044 non-null   int64  \n",
      " 4   longitude      1044 non-null   float64\n",
      " 5   latitude       1044 non-null   float64\n",
      " 6   area_hectares  1033 non-null   float64\n",
      " 7   category       1044 non-null   object \n",
      " 8   state          1044 non-null   object \n",
      " 9   region         1044 non-null   object \n",
      " 10  iso            1043 non-null   object \n",
      "dtypes: float64(3), int64(1), object(7)\n",
      "memory usage: 89.8+ KB\n"
     ]
    }
   ],
   "source": [
    "df.info()"
   ]
  },
  {
   "cell_type": "code",
   "execution_count": 4,
   "metadata": {},
   "outputs": [
    {
     "name": "stdout",
     "output_type": "stream",
     "text": [
      "Unique Categories: ['Cultural' 'Mixed' 'Natural']\n",
      "Unique States: ['Afghanistan' 'Albania' 'Algeria' 'Andorra' 'Angola'\n",
      " 'Antigua and Barbuda' 'Argentina' 'Armenia' 'Australia' 'Austria'\n",
      " 'Azerbaijan' 'Bahrain' 'Bangladesh' 'Barbados' 'Belarus' 'Belgium'\n",
      " 'Belize' 'Benin' 'Bolivia (Plurinational State of)'\n",
      " 'Bosnia and Herzegovina' 'Botswana' 'Brazil' 'Bulgaria' 'Burkina Faso'\n",
      " 'Cabo Verde' 'Cambodia' 'Cameroon' 'Canada' 'Central African Republic'\n",
      " 'Chad' 'Chile' 'China' 'Colombia' 'Costa Rica' \"C te d'Ivoire\" 'Croatia'\n",
      " 'Cuba' 'Cyprus' 'Czechia' \"Democratic People's Republic of Korea\"\n",
      " 'Democratic Republic of the Congo' 'Denmark' 'Dominica'\n",
      " 'Dominican Republic' 'Ecuador' 'Egypt' 'El Salvador' 'Eritrea' 'Estonia'\n",
      " 'Ethiopia' 'Fiji' 'Finland' 'France' 'Gabon' 'Gambia (the)' 'Georgia'\n",
      " 'Germany' 'Ghana' 'Greece' 'Guatemala' 'Haiti' 'Holy See' 'Honduras'\n",
      " 'Hungary' 'Iceland' 'India' 'Indonesia' 'Iran (Islamic Republic of)'\n",
      " 'Iraq' 'Ireland' 'Israel' 'Italy' 'Jamaica' 'Japan'\n",
      " 'Jerusalem (Site proposed by Jordan)' 'Jordan' 'Kazakhstan' 'Kenya'\n",
      " 'Kiribati' 'Kyrgyzstan' \"Lao People's Democratic Republic\" 'Latvia'\n",
      " 'Lebanon' 'Libya' 'Lithuania' 'Luxembourg' 'Madagascar' 'Malawi'\n",
      " 'Malaysia' 'Mali' 'Malta' 'Marshall Islands' 'Mauritania' 'Mauritius'\n",
      " 'Mexico' 'Micronesia (Federated States of)' 'Mongolia' 'Montenegro'\n",
      " 'Morocco' 'Mozambique' 'Myanmar' 'Namibia' 'Nepal' 'Netherlands'\n",
      " 'New Zealand' 'Nicaragua' 'Niger' 'Nigeria' 'Norway' 'Oman' 'Pakistan'\n",
      " 'Palau' 'Palestine' 'Panama' 'Papua New Guinea' 'Paraguay' 'Peru'\n",
      " 'Philippines' 'Poland' 'Portugal' 'Qatar' 'Republic of Korea' 'Romania'\n",
      " 'Russian Federation' 'Saint Kitts and Nevis' 'Saint Lucia' 'San Marino'\n",
      " 'Saudi Arabia' 'Senegal' 'Serbia' 'Seychelles' 'Singapore' 'Slovakia'\n",
      " 'Slovenia' 'Solomon Islands' 'South Africa' 'Spain' 'Sri Lanka' 'Sudan'\n",
      " 'Suriname' 'Sweden' 'Switzerland' 'Syrian Arab Republic' 'Tajikistan'\n",
      " 'Thailand' 'the former Yugoslav Republic of Macedonia' 'Togo' 'Tunisia'\n",
      " 'Turkey' 'Turkmenistan' 'Uganda' 'Ukraine' 'United Arab Emirates'\n",
      " 'United Kingdom of Great Britain and Northern Ireland'\n",
      " 'United Republic of Tanzania' 'United States of America' 'Uruguay'\n",
      " 'Uzbekistan' 'Vanuatu' 'Venezuela (Bolivarian Republic of)' 'Viet Nam'\n",
      " 'Yemen' 'Zimbabwe']\n",
      "Unique Regions: ['Asia and the Pacific' 'Europe and North America' 'Arab States' 'Africa'\n",
      " 'Latin America and the Caribbean']\n"
     ]
    }
   ],
   "source": [
    "# categories\n",
    "\n",
    "unique_categories = df['category'].unique()\n",
    "print(\"Unique Categories:\", unique_categories)\n",
    "\n",
    "# states\n",
    "\n",
    "unique_states = df['state'].unique()\n",
    "print(\"Unique States:\", unique_states)\n",
    "\n",
    "# regions\n",
    "\n",
    "unique_regions = df['region'].unique()\n",
    "print(\"Unique Regions:\", unique_regions)"
   ]
  },
  {
   "cell_type": "markdown",
   "metadata": {},
   "source": [
    "## Based on the EDA We can decide\n",
    "\n",
    "1. Nodes:\n",
    "   1. `Category`, `State`, `Region`, `Site`\n",
    "2. Relationships:\n",
    "   1. `BELONGS_TO` between `Site` and `Category`\n",
    "   2. `LOCATED_IN` between `Site` and `State`\n",
    "   3. `PART_OF` between `State` and `Region`\n",
    "3. Properties:\n",
    "   1. `Site`: `name`, `description`, `justification`, `year`, `longitude`, `latitude`, `area_hectares`\n",
    "   2. `Category`: `name`\n",
    "   3. `Region`: `name`\n",
    "   4. `State`: `name`, `iso`\n"
   ]
  },
  {
   "cell_type": "code",
   "execution_count": 5,
   "metadata": {},
   "outputs": [],
   "source": [
    "# Templates for creating the Cypher commands\n",
    "\n",
    "from string import Template"
   ]
  },
  {
   "cell_type": "code",
   "execution_count": 50,
   "metadata": {},
   "outputs": [],
   "source": [
    "# Nodes\n",
    "\n",
    "site_template = Template(\n",
    "    \"\"\"\\\n",
    "MERGE (s:Site {\n",
    "    name: \"$name\",\n",
    "    description: \"$description\",\n",
    "    justification: \"$justification\",\n",
    "    year: $year,\n",
    "    longitude: $longitude,\n",
    "    latitude: $latitude\n",
    "    area_hectares: $area_hectares\n",
    "});\n",
    "    \"\"\"\n",
    ")\n",
    "\n",
    "category_template = Template(\n",
    "    \"\"\"\\\n",
    "MERGE (c:Category {name: \"$name\"});\n",
    "    \"\"\"\n",
    ")\n",
    "\n",
    "region_template = Template(\n",
    "    \"\"\"\\\n",
    "MERGE (r:Region {name: \"$name\"});\n",
    "    \"\"\"\n",
    ")\n",
    "\n",
    "state_template = Template(\n",
    "    \"\"\"\\\n",
    "MERGE (s:State {name: \"$name\", iso: \"$iso\"});\n",
    "    \"\"\"\n",
    ")"
   ]
  },
  {
   "cell_type": "code",
   "execution_count": 51,
   "metadata": {},
   "outputs": [],
   "source": [
    "CYPHER_COMMANDS = []"
   ]
  },
  {
   "cell_type": "code",
   "execution_count": 52,
   "metadata": {},
   "outputs": [],
   "source": [
    "unique_regions = df['region'].drop_duplicates().to_frame(name='name')\n",
    "states = df[['state', 'iso']].drop_duplicates().rename(columns={'state': 'name'})\n",
    "categories = df['category'].drop_duplicates().to_frame(name='name')\n",
    "sites = df[['name', 'description', 'justification', 'year', 'longitude', 'latitude', 'area_hectares']]\n",
    "\n",
    "\n",
    "def create_node_cypher(template, df, label):\n",
    "    for i, row in df.iterrows():\n",
    "        cypher_command = template.substitute(row)\n",
    "        CYPHER_COMMANDS.append(cypher_command)"
   ]
  },
  {
   "cell_type": "code",
   "execution_count": 53,
   "metadata": {},
   "outputs": [],
   "source": [
    "# Generate Cypher commands for each type of node\n",
    "create_node_cypher(category_template, categories, 'Category')\n",
    "create_node_cypher(region_template, unique_regions, 'Region')\n",
    "create_node_cypher(state_template, states, 'State')\n",
    "create_node_cypher(site_template, sites, 'Site')"
   ]
  },
  {
   "cell_type": "code",
   "execution_count": 54,
   "metadata": {},
   "outputs": [],
   "source": [
    "# Relationships \n",
    "\n",
    "# templates\n",
    "belongs_to_template = Template(\n",
    "    \"\"\"\\\n",
    "MATCH (s:Site {name: \"$site_name\"})\n",
    "MATCH (c:Category {name: \"$category_name\"})\n",
    "MERGE (s)-[:BELONGS_TO]->(c);\n",
    "    \"\"\"\n",
    ")\n",
    "\n",
    "located_in_template = Template(\n",
    "    \"\"\"\\\n",
    "MATCH (s:Site {name: \"$site_name\"})\n",
    "MATCH (st:State {name: \"$state_name\"})\n",
    "MERGE (s)-[:LOCATED_IN]->(st);\n",
    "    \"\"\"\n",
    ")\n",
    "\n",
    "part_of_template = Template(\n",
    "    \"\"\"\\\n",
    "MATCH (st:State {name: \"$state_name\"})\n",
    "MATCH (r:Region {name: \"$region_name\"})\n",
    "MERGE (st)-[:PART_OF]->(r);\n",
    "    \"\"\"\n",
    ")"
   ]
  },
  {
   "cell_type": "code",
   "execution_count": 55,
   "metadata": {},
   "outputs": [],
   "source": [
    "# Create BELONGS_TO relationships\n",
    "for i, row in df.iterrows():\n",
    "    command = belongs_to_template.substitute(site_name=row['name'], category_name=row['category'])\n",
    "    CYPHER_COMMANDS.append(command)"
   ]
  },
  {
   "cell_type": "code",
   "execution_count": 56,
   "metadata": {},
   "outputs": [],
   "source": [
    "# Create LOCATED_IN relationships\n",
    "for i, row in df.iterrows():\n",
    "    command = located_in_template.substitute(site_name=row['name'], state_name=row['state'])\n",
    "    CYPHER_COMMANDS.append(command)"
   ]
  },
  {
   "cell_type": "code",
   "execution_count": 57,
   "metadata": {},
   "outputs": [],
   "source": [
    "# Create PART_OF relationships\n",
    "unique_state_region = df[['state', 'region']].drop_duplicates()\n",
    "for i, row in unique_state_region.iterrows():\n",
    "    command = part_of_template.substitute(state_name=row['state'], region_name=row['region'])\n",
    "    CYPHER_COMMANDS.append(command)"
   ]
  },
  {
   "cell_type": "code",
   "execution_count": 58,
   "metadata": {},
   "outputs": [
    {
     "name": "stdout",
     "output_type": "stream",
     "text": [
      "DONE\n"
     ]
    }
   ],
   "source": [
    "# Save the Cypher commands to a file\n",
    "\n",
    "output_path = \"data/whc-sites-2018-small.cypher\"\n",
    "with open(output_path, 'w') as f:\n",
    "    for command in CYPHER_COMMANDS:\n",
    "        f.write(command)\n",
    "\n",
    "print(\"DONE\")"
   ]
  },
  {
   "cell_type": "code",
   "execution_count": null,
   "metadata": {},
   "outputs": [],
   "source": []
  }
 ],
 "metadata": {
  "kernelspec": {
   "display_name": "Python 3",
   "language": "python",
   "name": "python3"
  },
  "language_info": {
   "codemirror_mode": {
    "name": "ipython",
    "version": 3
   },
   "file_extension": ".py",
   "mimetype": "text/x-python",
   "name": "python",
   "nbconvert_exporter": "python",
   "pygments_lexer": "ipython3",
   "version": "3.11.5"
  }
 },
 "nbformat": 4,
 "nbformat_minor": 2
}
